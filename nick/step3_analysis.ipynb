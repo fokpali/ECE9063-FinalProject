{
 "cells": [
  {
   "cell_type": "code",
   "execution_count": null,
   "metadata": {},
   "outputs": [],
   "source": [
    "import warnings\n",
    "import pandas as pd\n",
    "import matplotlib.pyplot as plt\n",
    "from sklearn.metrics import auc, precision_recall_curve, PrecisionRecallDisplay, classification_report\n",
    "from sklearn.model_selection import train_test_split\n",
    "from sklearn.linear_model import LogisticRegression as LR\n",
    "from sklearn.neural_network import MLPClassifier as MLP\n",
    "from sklearn.ensemble import RandomForestClassifier as RFC\n",
    "from sklearn.svm import SVC\n",
    "from sklearn.exceptions import ConvergenceWarning\n",
    "\n",
    "from common import load_data\n",
    "\n",
    "warnings.filterwarnings(\"ignore\", category=ConvergenceWarning)\n"
   ]
  },
  {
   "cell_type": "markdown",
   "metadata": {},
   "source": [
    "## SECTION 0:\n",
    "### Useful Functions & Loading the Dataset\n",
    "\n",
    "NOTE: \"Season Fatigue\" is called \"CumulativeDist\" in the dataset"
   ]
  },
  {
   "cell_type": "code",
   "execution_count": 12,
   "metadata": {},
   "outputs": [],
   "source": [
    "# --- Useful functions to be used --- #\n",
    "\n",
    "\n",
    "# creates a copy of the dataset with 'Season Fatigue' dropped or not\n",
    "def gen_exp2_dataset(df, with_fatigue=False):\n",
    "    new_df = df.copy()\n",
    "\n",
    "    # one-hot encoding of categorical features\n",
    "    new_df = pd.get_dummies(new_df, columns=['Position', 'StadiumType', 'FieldType', 'Weather'], dtype=int)\n",
    "\n",
    "    if with_fatigue:\n",
    "        new_df.drop(columns=['GameID', 'GameDist'], inplace=True)\n",
    "    else:\n",
    "        new_df.drop(columns=['GameID', 'CumulativeDist'], inplace=True)\n",
    "\n",
    "    # make new target variable for injury occurence\n",
    "    new_df['InjurySeverity'] = new_df['InjurySeverity'].apply(lambda x: 1 if x > 0 else 0)\n",
    "    new_df.rename(columns={'InjurySeverity': 'Injury'}, inplace=True)\n",
    "\n",
    "    # create dataset with more balanced classes\n",
    "    injury_players_df = new_df[new_df['Injury'] > 0]['PlayerKey'].unique()\n",
    "    new_df = new_df[new_df['PlayerKey'].isin(injury_players_df)]\n",
    "\n",
    "    injury_df = new_df[new_df['Injury'] == 1]\n",
    "    non_injury_df = new_df[new_df['Injury'] == 0]\n",
    "\n",
    "    random_samples = non_injury_df.sample(n=injury_df.shape[0], random_state=42)\n",
    "    new_df = pd.concat([injury_df, random_samples], axis=0)\n",
    "\n",
    "    return new_df\n",
    "\n",
    "\n",
    "# prints the stats of a dataset\n",
    "def print_dataset_stats(df):\n",
    "    print('Num of unique players: {}'.format(len(df['PlayerKey'].unique())))\n",
    "    print('Num of injuries: {}'.format(df.shape[0]))\n",
    "    print('Num of columns: {}'.format(len(df.columns)))\n",
    "    print('Num of rows: {}'.format(len(df)))\n",
    "\n",
    "\n",
    "# plots the precision recall curve for multiple models\n",
    "def plot_prc(y_true, model_preds):\n",
    "    plt.figure(figsize=(4.5, 3.5))\n",
    "    for key, val in model_preds.items():\n",
    "        p, r, _ = precision_recall_curve(y_true, val, pos_label=1)\n",
    "        disp = PrecisionRecallDisplay(precision=p, recall=r)\n",
    "        disp.plot(ax=plt.gca(), name='{} AUC = {:.3f}'.format(key, auc(r, p)))\n",
    "    plt.show()\n",
    "\n",
    "\n",
    "# obtains the classification report metrics for a trained model\n",
    "def get_scores(y_true, y_pred):\n",
    "    return classification_report(y_true, y_pred, labels=[0, 1], output_dict=True, zero_division=0)\n",
    "\n",
    "\n",
    "# prints the classification report metrics for a trained model\n",
    "def print_scores(scores, as_percentage=True):\n",
    "    if as_percentage:\n",
    "        print('Accuracy: {:.2f}%'.format(100 * scores['accuracy']))\n",
    "        print('[CLASS 0] Precision: {:.2f}%, Recall: {:.2f}%, F1 Score: {:.2f}%'.format(100 * scores['0']['precision'], 100 * scores['0']['recall'], 100 * scores['0']['f1-score']))\n",
    "        print('[CLASS 1] Precision: {:.2f}%, Recall: {:.2f}%, F1 Score: {:.2f}%'.format(100 * scores['1']['precision'], 100 * scores['1']['recall'], 100 * scores['1']['f1-score']))\n",
    "    else:\n",
    "        print('Accuracy: {:.4f}'.format(scores['accuracy']))\n",
    "        print('[CLASS 0] Precision: {:.4f}, Recall: {:.4f}, F1 Score: {:.4f}'.format(scores['0']['precision'], scores['0']['recall'], scores['0']['f1-score']))\n",
    "        print('[CLASS 1] Precision: {:.4f}, Recall: {:.4f}, F1 Score: {:.4f}'.format(scores['1']['precision'], scores['1']['recall'], scores['1']['f1-score']))\n",
    "\n",
    "\n",
    "# prints the difference in metric scores for two models\n",
    "def print_score_diff(scores1, scores2, as_percentage=True):\n",
    "    if as_percentage:\n",
    "        print('Accuracy Difference: {:.2f}%'.format(100 * (scores1['accuracy'] - scores2['accuracy'])))\n",
    "        print('[CLASS 0] Precision Difference: {:.2f}%, Recall Difference: {:.2f}%, F1 Score Difference: {:.2f}%'.format(\n",
    "            100 * (scores1['0']['precision'] - scores2['0']['precision']),\n",
    "            100 * (scores1['0']['recall'] - scores2['0']['recall']),\n",
    "            100 * (scores1['0']['f1-score'] - scores2['0']['f1-score'])\n",
    "        ))\n",
    "        print('[CLASS 1] Precision Difference: {:.2f}%, Recall Difference: {:.2f}%, F1 Score Difference: {:.2f}%'.format(\n",
    "            100 * (scores1['1']['precision'] - scores2['1']['precision']),\n",
    "            100 * (scores1['1']['recall'] - scores2['1']['recall']),\n",
    "            100 * (scores1['1']['f1-score'] - scores2['1']['f1-score'])\n",
    "        ))\n",
    "    else:\n",
    "        print('Accuracy Difference: {:.4f}'.format(scores1['accuracy'] - scores2['accuracy']))\n",
    "        print('[CLASS 0] Precision Difference: {:.4f}, Recall Difference: {:.4f}, F1 Score Difference: {:.4f}'.format(\n",
    "            scores1['0']['precision'] - scores2['0']['precision'],\n",
    "            scores1['0']['recall'] - scores2['0']['recall'],\n",
    "            scores1['0']['f1-score'] - scores2['0']['f1-score']\n",
    "        ))\n",
    "        print('[CLASS 1] Precision Difference: {:.4f}, Recall Difference: {:.4f}, F1 Score Difference: {:.4f}'.format(\n",
    "            scores1['1']['precision'] - scores2['1']['precision'],\n",
    "            scores1['1']['recall'] - scores2['1']['recall'],\n",
    "            scores1['1']['f1-score'] - scores2['1']['f1-score']\n",
    "        ))\n",
    "\n",
    "\n",
    "# global variables\n",
    "target_feature = 'Injury'\n",
    "seed = 42\n"
   ]
  },
  {
   "cell_type": "code",
   "execution_count": 13,
   "metadata": {},
   "outputs": [
    {
     "name": "stdout",
     "output_type": "stream",
     "text": [
      "-------------- Fatigue Dataset -------------\n",
      "Num of unique players: 100\n",
      "Num of injuries: 210\n",
      "Num of columns: 26\n",
      "Num of rows: 210\n",
      "-------------- Normal Dataset --------------\n",
      "Num of unique players: 100\n",
      "Num of injuries: 210\n",
      "Num of columns: 26\n",
      "Num of rows: 210\n"
     ]
    }
   ],
   "source": [
    "# --- Load the dataset and check distributions --- #\n",
    "main_df = load_data('exp2_data.csv', verbose=False)\n",
    "\n",
    "# --- Prepare datasets --- #\n",
    "print('-------------- Fatigue Dataset -------------')\n",
    "fatigue_df = gen_exp2_dataset(main_df, with_fatigue=True)\n",
    "print_dataset_stats(fatigue_df)\n",
    "\n",
    "print('-------------- Normal Dataset --------------')\n",
    "normal_df = gen_exp2_dataset(main_df, with_fatigue=False)\n",
    "print_dataset_stats(fatigue_df)\n",
    "# print(normal_df.columns)\n"
   ]
  },
  {
   "cell_type": "markdown",
   "metadata": {},
   "source": [
    "## SECTION 1:\n",
    "### Evaluating Fatigue Dataset (as in \"Season Fatigue\")"
   ]
  },
  {
   "cell_type": "code",
   "execution_count": 14,
   "metadata": {},
   "outputs": [
    {
     "name": "stdout",
     "output_type": "stream",
     "text": [
      "------------ Logistic Regression ----------\n",
      "Accuracy: 59.52%\n",
      "[CLASS 0] Precision: 66.67%, Recall: 52.17%, F1 Score: 58.54%\n",
      "[CLASS 1] Precision: 54.17%, Recall: 68.42%, F1 Score: 60.47%\n",
      "-------------- Random Forest --------------\n",
      "Accuracy: 66.67%\n",
      "[CLASS 0] Precision: 71.43%, Recall: 65.22%, F1 Score: 68.18%\n",
      "[CLASS 1] Precision: 61.90%, Recall: 68.42%, F1 Score: 65.00%\n",
      "------------------- SVC -------------------\n",
      "Accuracy: 57.14%\n",
      "[CLASS 0] Precision: 85.71%, Recall: 26.09%, F1 Score: 40.00%\n",
      "[CLASS 1] Precision: 51.43%, Recall: 94.74%, F1 Score: 66.67%\n",
      "------------------- MLP -------------------\n",
      "Accuracy: 57.14%\n",
      "[CLASS 0] Precision: 56.10%, Recall: 100.00%, F1 Score: 71.88%\n",
      "[CLASS 1] Precision: 100.00%, Recall: 5.26%, F1 Score: 10.00%\n"
     ]
    },
    {
     "data": {
      "image/png": "[encoded data removed]",
      "text/plain": [
       "<Figure size 450x350 with 1 Axes>"
      ]
     },
     "metadata": {},
     "output_type": "display_data"
    }
   ],
   "source": [
    "# --- Train and Test using Fatigue Dataset --- #\n",
    "train_data, test_data = train_test_split(fatigue_df, test_size=0.2, random_state=seed, shuffle=True)\n",
    "\n",
    "y_train = train_data[target_feature]\n",
    "y_test = test_data[target_feature]\n",
    "x_train = train_data.drop([target_feature], axis=1)\n",
    "x_test = test_data.drop([target_feature], axis=1)\n",
    "\n",
    "print('------------ Logistic Regression ----------')\n",
    "lr = LR(random_state=seed, max_iter=1000)\n",
    "lr.fit(x_train, y_train)\n",
    "y_pred = lr.predict(x_test)\n",
    "lr_probs = lr.predict_proba(x_test)[:, 1]\n",
    "lr_fatigue_scores = get_scores(y_test, y_pred)\n",
    "print_scores(lr_fatigue_scores)\n",
    "\n",
    "print('-------------- Random Forest --------------')\n",
    "rfc = RFC(random_state=seed, n_estimators=1000)\n",
    "rfc.fit(x_train, y_train)\n",
    "y_pred = rfc.predict(x_test)\n",
    "rfc_probs = rfc.predict_proba(x_test)[:, 1]\n",
    "rfc_fatigue_scores = get_scores(y_test, y_pred)\n",
    "print_scores(rfc_fatigue_scores)\n",
    "\n",
    "print('------------------- SVC -------------------')\n",
    "svc = SVC(random_state=seed, probability=True)\n",
    "svc.fit(x_train, y_train)\n",
    "y_pred = svc.predict(x_test)\n",
    "svc_probs = svc.predict_proba(x_test)[:, 1]\n",
    "svc_fatigue_scores = get_scores(y_test, y_pred)\n",
    "print_scores(svc_fatigue_scores)\n",
    "\n",
    "print('------------------- MLP -------------------')\n",
    "mlp = MLP(hidden_layer_sizes=(64, 32, 16), max_iter=1000, random_state=seed)\n",
    "mlp.fit(x_train, y_train)\n",
    "y_pred = mlp.predict(x_test)\n",
    "mlp_probs = mlp.predict_proba(x_test)[:, 1]\n",
    "mlp_fatigue_scores = get_scores(y_test, y_pred)\n",
    "print_scores(mlp_fatigue_scores)\n",
    "\n",
    "# -------------------------- #\n",
    "model_preds = {\n",
    "    'LR': lr_probs,\n",
    "    'RF': rfc_probs,\n",
    "    'SVC': svc_probs,\n",
    "    'MLP': mlp_probs\n",
    "}\n",
    "\n",
    "# --- Plot PRC for Fatigue Dataset --- #\n",
    "plot_prc(y_test, model_preds)\n"
   ]
  },
  {
   "cell_type": "markdown",
   "metadata": {},
   "source": [
    "## SECTION 2:\n",
    "### Evaluating Normal Dataset (AKA default dataset without \"Season Fatigue\" feature)"
   ]
  },
  {
   "cell_type": "code",
   "execution_count": 15,
   "metadata": {},
   "outputs": [
    {
     "name": "stdout",
     "output_type": "stream",
     "text": [
      "------------ Logistic Regression ----------\n",
      "Accuracy: 52.38%\n",
      "[CLASS 0] Precision: 57.89%, Recall: 47.83%, F1 Score: 52.38%\n",
      "[CLASS 1] Precision: 47.83%, Recall: 57.89%, F1 Score: 52.38%\n",
      "-------------- Random Forest --------------\n",
      "Accuracy: 47.62%\n",
      "[CLASS 0] Precision: 52.00%, Recall: 56.52%, F1 Score: 54.17%\n",
      "[CLASS 1] Precision: 41.18%, Recall: 36.84%, F1 Score: 38.89%\n",
      "------------------- SVC -------------------\n",
      "Accuracy: 45.24%\n",
      "[CLASS 0] Precision: 0.00%, Recall: 0.00%, F1 Score: 0.00%\n",
      "[CLASS 1] Precision: 45.24%, Recall: 100.00%, F1 Score: 62.30%\n",
      "------------------- MLP -------------------\n",
      "Accuracy: 50.00%\n",
      "[CLASS 0] Precision: 58.33%, Recall: 30.43%, F1 Score: 40.00%\n",
      "[CLASS 1] Precision: 46.67%, Recall: 73.68%, F1 Score: 57.14%\n"
     ]
    },
    {
     "data": {
      "image/png": "[encoded data removed]",
      "text/plain": [
       "<Figure size 450x350 with 1 Axes>"
      ]
     },
     "metadata": {},
     "output_type": "display_data"
    }
   ],
   "source": [
    "# --- Train and Test using Normal Dataset --- #\n",
    "train_data, test_data = train_test_split(normal_df, test_size=0.2, random_state=seed, shuffle=True)\n",
    "\n",
    "y_train = train_data[target_feature]\n",
    "y_test = test_data[target_feature]\n",
    "x_train = train_data.drop([target_feature], axis=1)\n",
    "x_test = test_data.drop([target_feature], axis=1)\n",
    "\n",
    "print('------------ Logistic Regression ----------')\n",
    "lr = LR(random_state=seed, max_iter=1000)\n",
    "lr.fit(x_train, y_train)\n",
    "y_pred = lr.predict(x_test)\n",
    "lr_probs = lr.predict_proba(x_test)[:, 1]\n",
    "lr_normal_scores = get_scores(y_test, y_pred)\n",
    "print_scores(lr_normal_scores)\n",
    "\n",
    "print('-------------- Random Forest --------------')\n",
    "rfc = RFC(random_state=seed)\n",
    "rfc.fit(x_train, y_train)\n",
    "y_pred = rfc.predict(x_test)\n",
    "rfc_probs = rfc.predict_proba(x_test)[:, 1]\n",
    "rfc_normal_scores = get_scores(y_test, y_pred)\n",
    "print_scores(rfc_normal_scores)\n",
    "\n",
    "print('------------------- SVC -------------------')\n",
    "svc = SVC(random_state=seed, probability=True)\n",
    "svc.fit(x_train, y_train)\n",
    "y_pred = svc.predict(x_test)\n",
    "svc_probs = svc.predict_proba(x_test)[:, 1]\n",
    "svc_normal_scores = get_scores(y_test, y_pred)\n",
    "print_scores(svc_normal_scores)\n",
    "\n",
    "print('------------------- MLP -------------------')\n",
    "mlp = MLP(hidden_layer_sizes=(64, 32, 16), max_iter=1000, random_state=seed)\n",
    "mlp.fit(x_train, y_train)\n",
    "y_pred = mlp.predict(x_test)\n",
    "mlp_probs = mlp.predict_proba(x_test)[:, 1]\n",
    "mlp_normal_scores = get_scores(y_test, y_pred)\n",
    "print_scores(mlp_normal_scores)\n",
    "\n",
    "# -------------------------- #\n",
    "model_preds = {\n",
    "    'LR': lr_probs,\n",
    "    'RF': rfc_probs,\n",
    "    'SVC': svc_probs,\n",
    "    'MLP': mlp_probs\n",
    "}\n",
    "\n",
    "# --- Plot PRC for Normal Dataset --- #\n",
    "plot_prc(y_test, model_preds)\n"
   ]
  },
  {
   "cell_type": "markdown",
   "metadata": {},
   "source": [
    "## SECTION 3:\n",
    "### Computing Difference in Scores"
   ]
  },
  {
   "cell_type": "code",
   "execution_count": 16,
   "metadata": {},
   "outputs": [
    {
     "name": "stdout",
     "output_type": "stream",
     "text": [
      "------------ Logistic Regression ----------\n",
      "Accuracy Difference: 7.14%\n",
      "[CLASS 0] Precision Difference: 8.77%, Recall Difference: 4.35%, F1 Score Difference: 6.16%\n",
      "[CLASS 1] Precision Difference: 6.34%, Recall Difference: 10.53%, F1 Score Difference: 8.08%\n",
      "-------------- Random Forest --------------\n",
      "Accuracy Difference: 19.05%\n",
      "[CLASS 0] Precision Difference: 19.43%, Recall Difference: 8.70%, F1 Score Difference: 14.02%\n",
      "[CLASS 1] Precision Difference: 20.73%, Recall Difference: 31.58%, F1 Score Difference: 26.11%\n",
      "------------------- SVC -------------------\n",
      "Accuracy Difference: 11.90%\n",
      "[CLASS 0] Precision Difference: 85.71%, Recall Difference: 26.09%, F1 Score Difference: 40.00%\n",
      "[CLASS 1] Precision Difference: 6.19%, Recall Difference: -5.26%, F1 Score Difference: 4.37%\n",
      "------------------- MLP -------------------\n",
      "Accuracy Difference: 7.14%\n",
      "[CLASS 0] Precision Difference: -2.24%, Recall Difference: 69.57%, F1 Score Difference: 31.87%\n",
      "[CLASS 1] Precision Difference: 53.33%, Recall Difference: -68.42%, F1 Score Difference: -47.14%\n"
     ]
    }
   ],
   "source": [
    "# --- Print score differences --- #\n",
    "print('------------ Logistic Regression ----------')\n",
    "print_score_diff(lr_fatigue_scores, lr_normal_scores)\n",
    "\n",
    "print('-------------- Random Forest --------------')\n",
    "print_score_diff(rfc_fatigue_scores, rfc_normal_scores)\n",
    "\n",
    "print('------------------- SVC -------------------')\n",
    "print_score_diff(svc_fatigue_scores, svc_normal_scores)\n",
    "\n",
    "print('------------------- MLP -------------------')\n",
    "print_score_diff(mlp_fatigue_scores, mlp_normal_scores)\n"
   ]
  }
 ],
 "metadata": {
  "kernelspec": {
   "display_name": "Python 3",
   "language": "python",
   "name": "python3"
  },
  "language_info": {
   "codemirror_mode": {
    "name": "ipython",
    "version": 3
   },
   "file_extension": ".py",
   "mimetype": "text/x-python",
   "name": "python",
   "nbconvert_exporter": "python",
   "pygments_lexer": "ipython3",
   "version": "3.9.6"
  }
 },
 "nbformat": 4,
 "nbformat_minor": 2
}
