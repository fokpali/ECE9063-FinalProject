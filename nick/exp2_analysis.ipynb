{
 "cells": [
  {
   "cell_type": "code",
   "execution_count": 191,
   "metadata": {},
   "outputs": [],
   "source": [
    "import os\n",
    "import time\n",
    "import pandas as pd\n",
    "import numpy as np\n",
    "import matplotlib.pyplot as plt\n",
    "from datetime import datetime\n",
    "from collections import Counter\n",
    "from sklearn.preprocessing import MinMaxScaler\n",
    "from sklearn.model_selection import train_test_split\n",
    "from sklearn.metrics import precision_score, recall_score, f1_score, balanced_accuracy_score, jaccard_score\n",
    "from sklearn.linear_model import RidgeClassifier as RC\n",
    "from sklearn.neural_network import MLPClassifier as MLP\n",
    "\n",
    "from common import load_data\n"
   ]
  },
  {
   "cell_type": "code",
   "execution_count": 192,
   "metadata": {},
   "outputs": [],
   "source": [
    "# --- Load the dataset and check distributions --- #\n",
    "main_df = load_data('exp2_data.csv', verbose=False)\n"
   ]
  },
  {
   "cell_type": "code",
   "execution_count": 193,
   "metadata": {},
   "outputs": [
    {
     "name": "stdout",
     "output_type": "stream",
     "text": [
      "Num of injuries: 105\n",
      "Num of unique players: 100\n",
      "Num of columns: 4\n",
      "Num of rows: 210\n",
      "     PlayerKey  PlayerGame  CumulativeDist  Injury\n",
      "118      31070           3         4433.92       1\n",
      "167      31933          20        36877.01       1\n",
      "210      33337           2         3258.37       1\n",
      "216      33337           8        12653.17       1\n",
      "228      33474          19        41041.52       1\n"
     ]
    }
   ],
   "source": [
    "# --- Prepare dataset --- #\n",
    "# one-hot encoding of categorical features\n",
    "# main_df = pd.get_dummies(main_df, columns=['Position', 'StadiumType', 'FieldType', 'Weather'], dtype=int)\n",
    "\n",
    "# drop uneeded columns\n",
    "main_df = main_df.drop(columns=['GameID', 'Position', 'StadiumType', 'FieldType', 'Weather', 'GameDist'])\n",
    "\n",
    "# make new target variable for injury occurence\n",
    "main_df['InjurySeverity'] = main_df['InjurySeverity'].apply(lambda x: 1 if x > 0 else 0)\n",
    "main_df.rename(columns={'InjurySeverity': 'Injury'}, inplace=True)\n",
    "\n",
    "# create dataset with more balanced classes\n",
    "injury_players_df = main_df[main_df['Injury'] == 1]['PlayerKey'].unique()\n",
    "main_df = main_df[main_df['PlayerKey'].isin(injury_players_df)]\n",
    "\n",
    "injury_df = main_df[main_df['Injury'] == 1]\n",
    "non_injury_df = main_df[main_df['Injury'] == 0]\n",
    "\n",
    "random_samples = non_injury_df.sample(n=injury_df.shape[0], random_state=42)\n",
    "main_df = pd.concat([injury_df, random_samples], axis=0)\n",
    "\n",
    "print('Num of injuries: {}'.format(injury_df.shape[0]))\n",
    "print('Num of unique players: {}'.format(len(main_df['PlayerKey'].unique())))\n",
    "print('Num of columns: {}'.format(len(main_df.columns)))\n",
    "print('Num of rows: {}'.format(len(main_df)))\n",
    "print(main_df.head(5))\n"
   ]
  },
  {
   "cell_type": "code",
   "execution_count": 194,
   "metadata": {},
   "outputs": [],
   "source": [
    "# --- Split data for training and testing --- #\n",
    "train_data, test_data = train_test_split(main_df, test_size=0.2, random_state=42, shuffle=True)\n",
    "\n",
    "target_feature = 'Injury'\n",
    "y_train = train_data[target_feature]\n",
    "y_test = test_data[target_feature]\n",
    "x_train = train_data.drop([target_feature], axis=1)\n",
    "x_test = test_data.drop([target_feature], axis=1)\n"
   ]
  },
  {
   "cell_type": "code",
   "execution_count": 195,
   "metadata": {},
   "outputs": [
    {
     "name": "stdout",
     "output_type": "stream",
     "text": [
      "Accuracy: 0.61905\n",
      "Precision: 0.55556\n",
      "Recall: 0.78947\n",
      "F1 Score: 0.65217\n",
      "Balanced Accuracy: 0.63387\n",
      "Jaccard Score: 0.48387\n"
     ]
    }
   ],
   "source": [
    "# --- Train and Test Ridge Classifier --- #\n",
    "ridge = RC(alpha=1, random_state=42)\n",
    "ridge.fit(x_train, y_train)\n",
    "y_pred = ridge.predict(x_test)\n",
    "print('Accuracy: {:.5f}'.format(ridge.score(x_test, y_test)))\n",
    "print('Precision: {:.5f}'.format(precision_score(y_test, y_pred)))\n",
    "print('Recall: {:.5f}'.format(recall_score(y_test, y_pred)))\n",
    "print('F1 Score: {:.5f}'.format(f1_score(y_test, y_pred)))\n",
    "print('Balanced Accuracy: {:.5f}'.format(balanced_accuracy_score(y_test, y_pred)))\n",
    "print('Jaccard Score: {:.5f}'.format(jaccard_score(y_test, y_pred)))\n"
   ]
  },
  {
   "cell_type": "code",
   "execution_count": 196,
   "metadata": {},
   "outputs": [
    {
     "name": "stdout",
     "output_type": "stream",
     "text": [
      "Iteration 1, loss = 17.59275716\n",
      "Iteration 2, loss = 17.59275713\n",
      "Iteration 3, loss = 17.59275708\n",
      "Iteration 4, loss = 15.77703222\n",
      "Iteration 5, loss = 19.31405837\n",
      "Iteration 6, loss = 18.45093914\n",
      "Iteration 7, loss = 18.45093908\n",
      "Iteration 8, loss = 18.45093902\n",
      "Iteration 9, loss = 18.45093895\n",
      "Iteration 10, loss = 14.88141617\n",
      "Iteration 11, loss = 16.81139500\n",
      "Iteration 12, loss = 15.65556441\n",
      "Iteration 13, loss = 16.46425688\n",
      "Iteration 14, loss = 15.93476518\n",
      "Iteration 15, loss = 16.60890908\n",
      "Iteration 16, loss = 16.63410803\n",
      "Iteration 17, loss = 15.84778364\n",
      "Iteration 18, loss = 14.58459233\n",
      "Iteration 19, loss = 15.51692019\n",
      "Iteration 20, loss = 18.45093815\n",
      "Iteration 21, loss = 18.40540021\n",
      "Iteration 22, loss = 15.45319227\n",
      "Iteration 23, loss = 16.97089454\n",
      "Iteration 24, loss = 17.87321622\n",
      "Iteration 25, loss = 15.51770786\n",
      "Iteration 26, loss = 15.99664757\n",
      "Iteration 27, loss = 14.91611542\n",
      "Iteration 28, loss = 11.06208231\n",
      "Iteration 29, loss = 13.08653547\n",
      "Iteration 30, loss = 14.69522365\n",
      "Iteration 31, loss = 11.95986920\n",
      "Iteration 32, loss = 15.04172000\n",
      "Iteration 33, loss = 13.55235596\n",
      "Iteration 34, loss = 14.71596819\n",
      "Iteration 35, loss = 11.45459542\n",
      "Iteration 36, loss = 16.61201418\n",
      "Iteration 37, loss = 16.72571650\n",
      "Iteration 38, loss = 9.19845622\n",
      "Iteration 39, loss = 12.82849223\n",
      "Iteration 40, loss = 14.34666945\n",
      "Iteration 41, loss = 14.13029056\n",
      "Iteration 42, loss = 12.80594713\n",
      "Iteration 43, loss = 6.87200175\n",
      "Iteration 44, loss = 15.89357012\n",
      "Iteration 45, loss = 16.41323300\n",
      "Iteration 46, loss = 12.73226375\n",
      "Iteration 47, loss = 9.05780450\n",
      "Iteration 48, loss = 9.50202973\n",
      "Iteration 49, loss = 7.88023411\n",
      "Iteration 50, loss = 9.21379925\n",
      "Iteration 51, loss = 8.76399257\n",
      "Iteration 52, loss = 10.35416598\n",
      "Iteration 53, loss = 10.26207161\n",
      "Iteration 54, loss = 12.91746347\n",
      "Training loss did not improve more than tol=0.000100 for 10 consecutive epochs. Stopping.\n",
      "Accuracy: 0.50000\n",
      "Precision: 0.25000\n",
      "Recall: 0.05263\n",
      "F1 Score: 0.08696\n",
      "Balanced Accuracy: 0.46110\n",
      "Jaccard Score: 0.04545\n"
     ]
    }
   ],
   "source": [
    "# --- Train and Test Neural Network --- #\n",
    "mlp = MLP(hidden_layer_sizes=(64, 32, 16), max_iter=1000, random_state=42, verbose=True)\n",
    "mlp.fit(x_train, y_train)\n",
    "y_pred = mlp.predict(x_test)\n",
    "print('Accuracy: {:.5f}'.format(mlp.score(x_test, y_test)))\n",
    "print('Precision: {:.5f}'.format(precision_score(y_test, y_pred)))\n",
    "print('Recall: {:.5f}'.format(recall_score(y_test, y_pred)))\n",
    "print('F1 Score: {:.5f}'.format(f1_score(y_test, y_pred)))\n",
    "print('Balanced Accuracy: {:.5f}'.format(balanced_accuracy_score(y_test, y_pred)))\n",
    "print('Jaccard Score: {:.5f}'.format(jaccard_score(y_test, y_pred)))\n"
   ]
  }
 ],
 "metadata": {
  "kernelspec": {
   "display_name": "Python 3",
   "language": "python",
   "name": "python3"
  },
  "language_info": {
   "codemirror_mode": {
    "name": "ipython",
    "version": 3
   },
   "file_extension": ".py",
   "mimetype": "text/x-python",
   "name": "python",
   "nbconvert_exporter": "python",
   "pygments_lexer": "ipython3",
   "version": "3.9.6"
  }
 },
 "nbformat": 4,
 "nbformat_minor": 2
}
